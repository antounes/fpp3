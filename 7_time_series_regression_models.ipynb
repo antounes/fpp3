{
 "cells": [
  {
   "cell_type": "markdown",
   "id": "63e83507-b04d-4131-ab76-cfe8e407c454",
   "metadata": {},
   "source": [
    "# Time Series Regression Models"
   ]
  },
  {
   "cell_type": "code",
   "execution_count": null,
   "id": "db4a3e47-04c6-419f-870e-ed7a05a1f4d6",
   "metadata": {},
   "outputs": [],
   "source": []
  }
 ],
 "metadata": {
  "kernelspec": {
   "display_name": "R",
   "language": "R",
   "name": "ir"
  },
  "language_info": {
   "codemirror_mode": "r",
   "file_extension": ".r",
   "mimetype": "text/x-r-source",
   "name": "R",
   "pygments_lexer": "r",
   "version": "4.2.0"
  }
 },
 "nbformat": 4,
 "nbformat_minor": 5
}
